{
  "nbformat": 4,
  "nbformat_minor": 0,
  "metadata": {
    "colab": {
      "private_outputs": true,
      "provenance": [],
      "authorship_tag": "ABX9TyN9vNZgSXddJ0RkA4BA/eUv",
      "include_colab_link": true
    },
    "kernelspec": {
      "name": "python3",
      "display_name": "Python 3"
    },
    "language_info": {
      "name": "python"
    }
  },
  "cells": [
    {
      "cell_type": "markdown",
      "metadata": {
        "id": "view-in-github",
        "colab_type": "text"
      },
      "source": [
        "<a href=\"https://colab.research.google.com/github/RafaelGallo/plot_random_forest/blob/main/Plot_random_forest.ipynb\" target=\"_parent\"><img src=\"https://colab.research.google.com/assets/colab-badge.svg\" alt=\"Open In Colab\"/></a>"
      ]
    },
    {
      "cell_type": "code",
      "execution_count": null,
      "metadata": {
        "id": "jG6Mae63TSiQ"
      },
      "outputs": [],
      "source": [
        "# Importando bibliotecas\n",
        "import sklearn\n",
        "import numpy as np\n",
        "import matplotlib.pyplot as plt"
      ]
    },
    {
      "cell_type": "code",
      "source": [
        "## Base dados\n",
        "from sklearn.datasets import load_iris\n",
        "\n",
        "# Carregar conjunto de dados (exemplo com Iris dataset)\n",
        "iris = load_iris()"
      ],
      "metadata": {
        "id": "aBNUXzZGTUmr"
      },
      "execution_count": null,
      "outputs": []
    },
    {
      "cell_type": "code",
      "source": [
        "# Divisão treino e teste\n",
        "X = iris.data\n",
        "y = iris.target"
      ],
      "metadata": {
        "id": "YvaG8zQXTdf8"
      },
      "execution_count": null,
      "outputs": []
    },
    {
      "cell_type": "code",
      "source": [
        "# Importando biblioteca\n",
        "from sklearn.model_selection import train_test_split\n",
        "\n",
        "# Dividir dados em conjuntos de treino e teste\n",
        "X_train, X_test, y_train, y_test = train_test_split(X, y, test_size=0.2, random_state=42)"
      ],
      "metadata": {
        "id": "OyRPmfdqWMNT"
      },
      "execution_count": null,
      "outputs": []
    },
    {
      "cell_type": "code",
      "source": [
        "# Importando biblioteca\n",
        "from sklearn import tree\n",
        "from sklearn.ensemble import RandomForestClassifier\n",
        "\n",
        "# Inicializar o modelo de Floresta Aleatória com 5 árvores\n",
        "rf_model = RandomForestClassifier(n_estimators=5,\n",
        "                                  random_state=42)\n",
        "\n",
        "# Treinamento modelo\n",
        "rf_model.fit(X_train, y_train)"
      ],
      "metadata": {
        "id": "GotNRwYtTdoK"
      },
      "execution_count": null,
      "outputs": []
    },
    {
      "cell_type": "code",
      "source": [
        "# Score modelo\n",
        "rf_model_score = rf_model.score(X_train, y_train)\n",
        "rf_model_score"
      ],
      "metadata": {
        "id": "Kry25s_6WTrW"
      },
      "execution_count": null,
      "outputs": []
    },
    {
      "cell_type": "code",
      "source": [
        "# Escolher uma árvore específica (por exemplo, a primeira árvore, índice 0)\n",
        "tree_to_visualize = 0\n",
        "\n",
        "# Extrair a árvore selecionada do modelo de Floresta Aleatória\n",
        "single_tree = rf_model.estimators_[tree_to_visualize]\n",
        "\n",
        "# Plotar a árvore\n",
        "plt.figure(figsize=(25.5, 10))\n",
        "tree.plot_tree(single_tree,\n",
        "               filled=True,\n",
        "               feature_names=iris.feature_names,\n",
        "               class_names=iris.target_names)\n",
        "\n",
        "# Adicionando títulos na imagem\n",
        "plt.title(f\"Árvore {tree_to_visualize + 2} da Floresta Aleatória\")\n",
        "\n",
        "# Visualizando imagem\n",
        "plt.show()"
      ],
      "metadata": {
        "id": "h4VPwyqETp2u"
      },
      "execution_count": null,
      "outputs": []
    },
    {
      "cell_type": "code",
      "source": [
        "# Fazer previsões no conjunto de teste\n",
        "predictions = rf_model.predict(X_test)"
      ],
      "metadata": {
        "id": "R1ajQDT8VQHL"
      },
      "execution_count": null,
      "outputs": []
    },
    {
      "cell_type": "code",
      "source": [
        "# Fazer previsões das probabilidades no conjunto de teste\n",
        "probs = rf_model.predict_proba(X_test)"
      ],
      "metadata": {
        "id": "v2WQ7UIbYIIE"
      },
      "execution_count": null,
      "outputs": []
    },
    {
      "cell_type": "code",
      "source": [
        "# Importando biblioteca\n",
        "from sklearn.metrics import confusion_matrix\n",
        "\n",
        "# Criar a matriz de confusão\n",
        "conf_matrix = confusion_matrix(y_test, predictions)\n",
        "\n",
        "# Plotar a matriz de confusão\n",
        "plt.figure(figsize=(8, 6))\n",
        "plt.imshow(conf_matrix, cmap=plt.cm.Blues)\n",
        "plt.title('Matriz de Confusão - Random Forest')\n",
        "plt.colorbar()\n",
        "\n",
        "classes = iris.target_names\n",
        "tick_marks = range(len(classes))\n",
        "plt.xticks(tick_marks, classes)\n",
        "plt.yticks(tick_marks, classes)\n",
        "\n",
        "for i in range(len(classes)):\n",
        "    for j in range(len(classes)):\n",
        "        plt.text(j,\n",
        "                 i,\n",
        "                 conf_matrix[i, j],\n",
        "                 ha='center',\n",
        "                 va='center')\n",
        "\n",
        "plt.xlabel('Previsto')\n",
        "plt.ylabel('Real')\n",
        "plt.show()"
      ],
      "metadata": {
        "id": "UABB8Sa7Wl-Z"
      },
      "execution_count": null,
      "outputs": []
    },
    {
      "cell_type": "code",
      "source": [],
      "metadata": {
        "id": "O_hcDmnxl-Cb"
      },
      "execution_count": null,
      "outputs": []
    },
    {
      "cell_type": "code",
      "source": [
        "from sklearn.metrics import roc_curve, auc\n",
        "\n",
        "# Fazer previsões das probabilidades no conjunto de teste\n",
        "probs = rf_model.predict_proba(X_test)\n",
        "\n",
        "# Calcular a curva ROC e AUC-ROC para cada classe\n",
        "plt.figure(figsize=(8, 6))\n",
        "for i in range(len(iris.target_names)):\n",
        "\n",
        "    # Binarizar as classes para a classe i versus todas as outras\n",
        "    y_binary = np.where(y_test == i, 1, 0)\n",
        "\n",
        "    # Calcular a curva ROC e AUC-ROC para a classe i\n",
        "    fpr, tpr, thresholds = roc_curve(y_binary, probs[:, i])\n",
        "    roc_auc = auc(fpr, tpr)\n",
        "\n",
        "    # Plotar a curva ROC para a classe i\n",
        "    plt.plot(fpr, tpr, label=f'Classe {i} (AUC = {roc_auc:.2f})')\n",
        "\n",
        "# Plotar linha base (classificador aleatório)\n",
        "plt.plot([0, 1], [0, 1], linestyle='--', color='red')\n",
        "plt.xlabel('Taxa de Falsos Positivos (FPR)')\n",
        "plt.ylabel('Taxa de Verdadeiros Positivos (TPR)')\n",
        "plt.title('Curva ROC (Multiclasse)')\n",
        "plt.legend()\n",
        "plt.show()"
      ],
      "metadata": {
        "id": "k0pdlK7eWwAb"
      },
      "execution_count": null,
      "outputs": []
    },
    {
      "cell_type": "code",
      "source": [
        "from sklearn.metrics import precision_score\n",
        "from sklearn.metrics import recall_score\n",
        "from sklearn.metrics import f1_score\n",
        "\n",
        "# Calcular métricas: precisão, recall e F1-score\n",
        "precision = precision_score(y_test, predictions, average='weighted')\n",
        "recall = recall_score(y_test, predictions, average='weighted')\n",
        "f1 = f1_score(y_test, predictions, average='weighted')\n",
        "\n",
        "print(f\"Precision: {precision:.4f}\")\n",
        "print(f\"Recall: {recall:.4f}\")\n",
        "print(f\"F1-score: {f1:.4f}\")"
      ],
      "metadata": {
        "id": "8wQO-4dXZLpA"
      },
      "execution_count": null,
      "outputs": []
    },
    {
      "cell_type": "code",
      "source": [
        "# Salvando modelo\n",
        "# Importando biblioteca\n",
        "import joblib\n",
        "\n",
        "# Salvar o modelo treinado em um arquivo\n",
        "joblib.dump(rf_model, 'modelo_floresta.pkl')"
      ],
      "metadata": {
        "id": "PjjtTBRDW8t4"
      },
      "execution_count": null,
      "outputs": []
    },
    {
      "cell_type": "markdown",
      "source": [
        "## **Deploy modelo**"
      ],
      "metadata": {
        "id": "TifLRO_jaZ0Y"
      }
    },
    {
      "cell_type": "code",
      "source": [
        "## Deploy modelo\n",
        "# Carregar o modelo salvo de volta para uso\n",
        "loaded_model = joblib.load('modelo_floresta.pkl')"
      ],
      "metadata": {
        "id": "VRYEgf3Jludv"
      },
      "execution_count": null,
      "outputs": []
    },
    {
      "cell_type": "code",
      "source": [
        "## Deploy modelo\n",
        "\n",
        "# Agora você pode usar 'loaded_model' para fazer previsões, por exemplo:\n",
        "model = loaded_model.predict(X_test)"
      ],
      "metadata": {
        "id": "VCSd2NyeY5ia"
      },
      "execution_count": null,
      "outputs": []
    },
    {
      "cell_type": "code",
      "source": [
        "# Dados de exemplo para previsão\n",
        "# Exemplo 1 para 'setosa'\n",
        "# Exemplo 2 para 'versicolor'\n",
        "# Exemplo 3 para 'virginica'\n",
        "\n",
        "novos_dados = np.array([\n",
        "    [5.1, 3.5, 1.4, 0.2],\n",
        "    [6.2, 2.9, 4.3, 1.3],\n",
        "    [3.7, 3.2, 4.2, 2.3]])\n",
        "\n",
        "# Fazer previsões nos novos dados\n",
        "previsoes_novos_dados = loaded_model.predict(novos_dados)"
      ],
      "metadata": {
        "id": "9VMb3JKsmYMi"
      },
      "execution_count": null,
      "outputs": []
    },
    {
      "cell_type": "code",
      "source": [
        "# Mapear os valores previstos de volta para os nomes das classes\n",
        "classes = ['setosa',\n",
        "           'versicolor',\n",
        "           'virginica']\n",
        "\n",
        "# Previsões com os nomes\n",
        "previsoes_nomes_classes = [classes[pred] for pred in previsoes_novos_dados]\n",
        "\n",
        "# Exibir as previsões feitas para os novos dados\n",
        "for i, pred in enumerate(previsoes_nomes_classes):\n",
        "    print(f\"Previsão flor {i + 1}: {pred}\")"
      ],
      "metadata": {
        "id": "cYyrAYKZY9oG"
      },
      "execution_count": null,
      "outputs": []
    },
    {
      "cell_type": "code",
      "source": [],
      "metadata": {
        "id": "oS9lXM3zZGmQ"
      },
      "execution_count": null,
      "outputs": []
    }
  ]
}